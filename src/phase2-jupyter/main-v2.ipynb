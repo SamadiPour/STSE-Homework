{
 "cells": [
  {
   "cell_type": "markdown",
   "metadata": {},
   "source": [
    "# Import libraries"
   ]
  },
  {
   "cell_type": "code",
   "execution_count": 124,
   "metadata": {},
   "outputs": [],
   "source": [
    "import unicodedata\n",
    "import contractions\n",
    "import nltk\n",
    "import pandas as pd\n",
    "import numpy as np\n",
    "import emoji\n",
    "import string\n",
    "import re\n",
    "from autocorrect import Speller\n",
    "from nltk.tokenize.casual import reduce_lengthening"
   ]
  },
  {
   "cell_type": "markdown",
   "metadata": {},
   "source": [
    "# Read csv file"
   ]
  },
  {
   "cell_type": "code",
   "execution_count": 125,
   "metadata": {},
   "outputs": [
    {
     "data": {
      "text/plain": "                tweet_id              user_id         username  \\\n0    1086119014131208193            872689680           IainWf   \n1     914242426755256320            168791540      WamiqCygnus   \n2    1089244670998265856            459786827     TegiOfficial   \n3    1065046825613344768           4705188576  dogpictures_jpg   \n4    1061820482872401920             88317267      marussell99   \n..                   ...                  ...              ...   \n751  1176203295939055616           4839690543   saintsunflower   \n752  1142855432295387142  1125867059324313601   SpicyBreadpill   \n753  1170414497535799296             35942692    JamisonFaught   \n754    88500248498024448             63963137  SteveCheezmysta   \n755  1133433248158277632             24542723   RichardLSPrice   \n\n         tweet_timestamp lang  \\\n0    2019-01-18 04:32:06   en   \n1    2017-09-30 21:35:54   en   \n2    2019-01-26 19:32:21   en   \n3    2018-11-21 00:58:45   en   \n4    2018-11-12 03:18:25   en   \n..                   ...  ...   \n751  2019-09-23 18:34:53   en   \n752  2019-06-23 18:02:22   en   \n753  2019-09-07 19:12:16   en   \n754  2011-07-06 06:51:18   en   \n755  2019-05-28 18:01:59   en   \n\n                                                  text  sarcasm_label  \\\n0    I knew as soon as I heard Doing Ford was cutti...  not_sarcastic   \n1    Eating apple sauce, chicken thighs, broccoli, ...  not_sarcastic   \n2    The greatest crime in the world is not develop...  not_sarcastic   \n3    @DemetriusHarmon i get paid on friday and i’m ...  not_sarcastic   \n4    No, please, no.\\r\\n\\r\\nOpinion: Hillary Will R...  not_sarcastic   \n..                                                 ...            ...   \n751  Imagine that it's going to cost me 600 pound t...  not_sarcastic   \n752  people really out here tryna argue \"you don't ...  not_sarcastic   \n753  @ArmyWP_Football and their relentless running ...  not_sarcastic   \n754  Why is it that whether I get out of bed at 6.4...  not_sarcastic   \n755  Honestly this morning’s news about Gavin and S...  not_sarcastic   \n\n    sarcasm_type  \n0            NaN  \n1            NaN  \n2            NaN  \n3            NaN  \n4            NaN  \n..           ...  \n751          NaN  \n752          NaN  \n753          NaN  \n754          NaN  \n755          NaN  \n\n[756 rows x 8 columns]",
      "text/html": "<div>\n<style scoped>\n    .dataframe tbody tr th:only-of-type {\n        vertical-align: middle;\n    }\n\n    .dataframe tbody tr th {\n        vertical-align: top;\n    }\n\n    .dataframe thead th {\n        text-align: right;\n    }\n</style>\n<table border=\"1\" class=\"dataframe\">\n  <thead>\n    <tr style=\"text-align: right;\">\n      <th></th>\n      <th>tweet_id</th>\n      <th>user_id</th>\n      <th>username</th>\n      <th>tweet_timestamp</th>\n      <th>lang</th>\n      <th>text</th>\n      <th>sarcasm_label</th>\n      <th>sarcasm_type</th>\n    </tr>\n  </thead>\n  <tbody>\n    <tr>\n      <th>0</th>\n      <td>1086119014131208193</td>\n      <td>872689680</td>\n      <td>IainWf</td>\n      <td>2019-01-18 04:32:06</td>\n      <td>en</td>\n      <td>I knew as soon as I heard Doing Ford was cutti...</td>\n      <td>not_sarcastic</td>\n      <td>NaN</td>\n    </tr>\n    <tr>\n      <th>1</th>\n      <td>914242426755256320</td>\n      <td>168791540</td>\n      <td>WamiqCygnus</td>\n      <td>2017-09-30 21:35:54</td>\n      <td>en</td>\n      <td>Eating apple sauce, chicken thighs, broccoli, ...</td>\n      <td>not_sarcastic</td>\n      <td>NaN</td>\n    </tr>\n    <tr>\n      <th>2</th>\n      <td>1089244670998265856</td>\n      <td>459786827</td>\n      <td>TegiOfficial</td>\n      <td>2019-01-26 19:32:21</td>\n      <td>en</td>\n      <td>The greatest crime in the world is not develop...</td>\n      <td>not_sarcastic</td>\n      <td>NaN</td>\n    </tr>\n    <tr>\n      <th>3</th>\n      <td>1065046825613344768</td>\n      <td>4705188576</td>\n      <td>dogpictures_jpg</td>\n      <td>2018-11-21 00:58:45</td>\n      <td>en</td>\n      <td>@DemetriusHarmon i get paid on friday and i’m ...</td>\n      <td>not_sarcastic</td>\n      <td>NaN</td>\n    </tr>\n    <tr>\n      <th>4</th>\n      <td>1061820482872401920</td>\n      <td>88317267</td>\n      <td>marussell99</td>\n      <td>2018-11-12 03:18:25</td>\n      <td>en</td>\n      <td>No, please, no.\\r\\n\\r\\nOpinion: Hillary Will R...</td>\n      <td>not_sarcastic</td>\n      <td>NaN</td>\n    </tr>\n    <tr>\n      <th>...</th>\n      <td>...</td>\n      <td>...</td>\n      <td>...</td>\n      <td>...</td>\n      <td>...</td>\n      <td>...</td>\n      <td>...</td>\n      <td>...</td>\n    </tr>\n    <tr>\n      <th>751</th>\n      <td>1176203295939055616</td>\n      <td>4839690543</td>\n      <td>saintsunflower</td>\n      <td>2019-09-23 18:34:53</td>\n      <td>en</td>\n      <td>Imagine that it's going to cost me 600 pound t...</td>\n      <td>not_sarcastic</td>\n      <td>NaN</td>\n    </tr>\n    <tr>\n      <th>752</th>\n      <td>1142855432295387142</td>\n      <td>1125867059324313601</td>\n      <td>SpicyBreadpill</td>\n      <td>2019-06-23 18:02:22</td>\n      <td>en</td>\n      <td>people really out here tryna argue \"you don't ...</td>\n      <td>not_sarcastic</td>\n      <td>NaN</td>\n    </tr>\n    <tr>\n      <th>753</th>\n      <td>1170414497535799296</td>\n      <td>35942692</td>\n      <td>JamisonFaught</td>\n      <td>2019-09-07 19:12:16</td>\n      <td>en</td>\n      <td>@ArmyWP_Football and their relentless running ...</td>\n      <td>not_sarcastic</td>\n      <td>NaN</td>\n    </tr>\n    <tr>\n      <th>754</th>\n      <td>88500248498024448</td>\n      <td>63963137</td>\n      <td>SteveCheezmysta</td>\n      <td>2011-07-06 06:51:18</td>\n      <td>en</td>\n      <td>Why is it that whether I get out of bed at 6.4...</td>\n      <td>not_sarcastic</td>\n      <td>NaN</td>\n    </tr>\n    <tr>\n      <th>755</th>\n      <td>1133433248158277632</td>\n      <td>24542723</td>\n      <td>RichardLSPrice</td>\n      <td>2019-05-28 18:01:59</td>\n      <td>en</td>\n      <td>Honestly this morning’s news about Gavin and S...</td>\n      <td>not_sarcastic</td>\n      <td>NaN</td>\n    </tr>\n  </tbody>\n</table>\n<p>756 rows × 8 columns</p>\n</div>"
     },
     "execution_count": 125,
     "metadata": {},
     "output_type": "execute_result"
    }
   ],
   "source": [
    "df1 = pd.read_csv('/Volumes/HDD/Projects/Python/STSE-Homework/src/phase2-jupyter/test.csv')\n",
    "# df1 = pd.read_csv('test.csv')\n",
    "df1.fillna(np.nan)\n",
    "df1"
   ]
  },
  {
   "cell_type": "code",
   "execution_count": 126,
   "metadata": {},
   "outputs": [
    {
     "data": {
      "text/plain": "                 tweet_id             user_id        username  \\\n0     1084373658745876480           145195467          mjrgrs   \n1               812181186            14114632          ziggah   \n2     1090351571395899392           625308244  thatprincesong   \n3      914961092698353664           168791540     WamiqCygnus   \n4     1080104089277681664  935162300251680768         Jensai_   \n...                   ...                 ...             ...   \n3064  1171093461111660546           265370164      zeldaxzora   \n3065  1158305504575275009           265370164      zeldaxzora   \n3066  1145291654926147586            24542723  RichardLSPrice   \n3067  1146574582272462853            24542723  RichardLSPrice   \n3068  1055962756380327937            24542723  RichardLSPrice   \n\n          tweet_timestamp lang  \\\n0     2019-01-13 08:56:41   en   \n1     2008-05-15 18:51:03   en   \n2     2019-01-29 20:50:47   en   \n3     2017-10-02 21:11:38   en   \n4     2019-01-01 14:10:56   en   \n...                   ...  ...   \n3064  2019-09-09 16:10:13   en   \n3065  2019-08-05 09:15:27   en   \n3066  2019-06-30 11:23:03   en   \n3067  2019-07-04 00:20:57   en   \n3068  2018-10-26 23:21:54   en   \n\n                                                   text  sarcasm_label  \\\n0     sorry but sue from the mediweight advert looks...  not_sarcastic   \n1     @davesnyder since this is fantasy can it be an...  not_sarcastic   \n2     Good times, fun times here in Grand old Britan...      sarcastic   \n3     I send light and love to all impacted by the #...  not_sarcastic   \n4                          Another year closer to death  not_sarcastic   \n...                                                 ...            ...   \n3064  where are the best places to get an academic d...  not_sarcastic   \n3065  i accidentally just posted someone’s happy bir...  not_sarcastic   \n3066  I can confirm I am retiring from the consumpti...      sarcastic   \n3067                       Anxiety is the fucking worst  not_sarcastic   \n3068  Haven’t stopped thinking about Doctor Who sinc...  not_sarcastic   \n\n     sarcasm_type  \n0             NaN  \n1             NaN  \n2           irony  \n3             NaN  \n4             NaN  \n...           ...  \n3064          NaN  \n3065          NaN  \n3066        irony  \n3067          NaN  \n3068          NaN  \n\n[3069 rows x 8 columns]",
      "text/html": "<div>\n<style scoped>\n    .dataframe tbody tr th:only-of-type {\n        vertical-align: middle;\n    }\n\n    .dataframe tbody tr th {\n        vertical-align: top;\n    }\n\n    .dataframe thead th {\n        text-align: right;\n    }\n</style>\n<table border=\"1\" class=\"dataframe\">\n  <thead>\n    <tr style=\"text-align: right;\">\n      <th></th>\n      <th>tweet_id</th>\n      <th>user_id</th>\n      <th>username</th>\n      <th>tweet_timestamp</th>\n      <th>lang</th>\n      <th>text</th>\n      <th>sarcasm_label</th>\n      <th>sarcasm_type</th>\n    </tr>\n  </thead>\n  <tbody>\n    <tr>\n      <th>0</th>\n      <td>1084373658745876480</td>\n      <td>145195467</td>\n      <td>mjrgrs</td>\n      <td>2019-01-13 08:56:41</td>\n      <td>en</td>\n      <td>sorry but sue from the mediweight advert looks...</td>\n      <td>not_sarcastic</td>\n      <td>NaN</td>\n    </tr>\n    <tr>\n      <th>1</th>\n      <td>812181186</td>\n      <td>14114632</td>\n      <td>ziggah</td>\n      <td>2008-05-15 18:51:03</td>\n      <td>en</td>\n      <td>@davesnyder since this is fantasy can it be an...</td>\n      <td>not_sarcastic</td>\n      <td>NaN</td>\n    </tr>\n    <tr>\n      <th>2</th>\n      <td>1090351571395899392</td>\n      <td>625308244</td>\n      <td>thatprincesong</td>\n      <td>2019-01-29 20:50:47</td>\n      <td>en</td>\n      <td>Good times, fun times here in Grand old Britan...</td>\n      <td>sarcastic</td>\n      <td>irony</td>\n    </tr>\n    <tr>\n      <th>3</th>\n      <td>914961092698353664</td>\n      <td>168791540</td>\n      <td>WamiqCygnus</td>\n      <td>2017-10-02 21:11:38</td>\n      <td>en</td>\n      <td>I send light and love to all impacted by the #...</td>\n      <td>not_sarcastic</td>\n      <td>NaN</td>\n    </tr>\n    <tr>\n      <th>4</th>\n      <td>1080104089277681664</td>\n      <td>935162300251680768</td>\n      <td>Jensai_</td>\n      <td>2019-01-01 14:10:56</td>\n      <td>en</td>\n      <td>Another year closer to death</td>\n      <td>not_sarcastic</td>\n      <td>NaN</td>\n    </tr>\n    <tr>\n      <th>...</th>\n      <td>...</td>\n      <td>...</td>\n      <td>...</td>\n      <td>...</td>\n      <td>...</td>\n      <td>...</td>\n      <td>...</td>\n      <td>...</td>\n    </tr>\n    <tr>\n      <th>3064</th>\n      <td>1171093461111660546</td>\n      <td>265370164</td>\n      <td>zeldaxzora</td>\n      <td>2019-09-09 16:10:13</td>\n      <td>en</td>\n      <td>where are the best places to get an academic d...</td>\n      <td>not_sarcastic</td>\n      <td>NaN</td>\n    </tr>\n    <tr>\n      <th>3065</th>\n      <td>1158305504575275009</td>\n      <td>265370164</td>\n      <td>zeldaxzora</td>\n      <td>2019-08-05 09:15:27</td>\n      <td>en</td>\n      <td>i accidentally just posted someone’s happy bir...</td>\n      <td>not_sarcastic</td>\n      <td>NaN</td>\n    </tr>\n    <tr>\n      <th>3066</th>\n      <td>1145291654926147586</td>\n      <td>24542723</td>\n      <td>RichardLSPrice</td>\n      <td>2019-06-30 11:23:03</td>\n      <td>en</td>\n      <td>I can confirm I am retiring from the consumpti...</td>\n      <td>sarcastic</td>\n      <td>irony</td>\n    </tr>\n    <tr>\n      <th>3067</th>\n      <td>1146574582272462853</td>\n      <td>24542723</td>\n      <td>RichardLSPrice</td>\n      <td>2019-07-04 00:20:57</td>\n      <td>en</td>\n      <td>Anxiety is the fucking worst</td>\n      <td>not_sarcastic</td>\n      <td>NaN</td>\n    </tr>\n    <tr>\n      <th>3068</th>\n      <td>1055962756380327937</td>\n      <td>24542723</td>\n      <td>RichardLSPrice</td>\n      <td>2018-10-26 23:21:54</td>\n      <td>en</td>\n      <td>Haven’t stopped thinking about Doctor Who sinc...</td>\n      <td>not_sarcastic</td>\n      <td>NaN</td>\n    </tr>\n  </tbody>\n</table>\n<p>3069 rows × 8 columns</p>\n</div>"
     },
     "execution_count": 126,
     "metadata": {},
     "output_type": "execute_result"
    }
   ],
   "source": [
    "df2 = pd.read_csv('/Volumes/HDD/Projects/Python/STSE-Homework/src/phase2-jupyter/train.csv')\n",
    "# df2 = pd.read_csv('train.csv')\n",
    "df2.fillna(np.nan)\n",
    "df2"
   ]
  },
  {
   "cell_type": "markdown",
   "metadata": {},
   "source": [
    "# Merge two csv files"
   ]
  },
  {
   "cell_type": "code",
   "execution_count": 127,
   "metadata": {},
   "outputs": [
    {
     "data": {
      "text/plain": "                 tweet_id     user_id         username      tweet_timestamp  \\\n0     1086119014131208193   872689680           IainWf  2019-01-18 04:32:06   \n1      914242426755256320   168791540      WamiqCygnus  2017-09-30 21:35:54   \n2     1089244670998265856   459786827     TegiOfficial  2019-01-26 19:32:21   \n3     1065046825613344768  4705188576  dogpictures_jpg  2018-11-21 00:58:45   \n4     1061820482872401920    88317267      marussell99  2018-11-12 03:18:25   \n...                   ...         ...              ...                  ...   \n3820  1171093461111660546   265370164       zeldaxzora  2019-09-09 16:10:13   \n3821  1158305504575275009   265370164       zeldaxzora  2019-08-05 09:15:27   \n3822  1145291654926147586    24542723   RichardLSPrice  2019-06-30 11:23:03   \n3823  1146574582272462853    24542723   RichardLSPrice  2019-07-04 00:20:57   \n3824  1055962756380327937    24542723   RichardLSPrice  2018-10-26 23:21:54   \n\n     lang                                               text  sarcasm_label  \\\n0      en  I knew as soon as I heard Doing Ford was cutti...  not_sarcastic   \n1      en  Eating apple sauce, chicken thighs, broccoli, ...  not_sarcastic   \n2      en  The greatest crime in the world is not develop...  not_sarcastic   \n3      en  @DemetriusHarmon i get paid on friday and i’m ...  not_sarcastic   \n4      en  No, please, no.\\r\\n\\r\\nOpinion: Hillary Will R...  not_sarcastic   \n...   ...                                                ...            ...   \n3820   en  where are the best places to get an academic d...  not_sarcastic   \n3821   en  i accidentally just posted someone’s happy bir...  not_sarcastic   \n3822   en  I can confirm I am retiring from the consumpti...      sarcastic   \n3823   en                       Anxiety is the fucking worst  not_sarcastic   \n3824   en  Haven’t stopped thinking about Doctor Who sinc...  not_sarcastic   \n\n     sarcasm_type  \n0             NaN  \n1             NaN  \n2             NaN  \n3             NaN  \n4             NaN  \n...           ...  \n3820          NaN  \n3821          NaN  \n3822        irony  \n3823          NaN  \n3824          NaN  \n\n[3825 rows x 8 columns]",
      "text/html": "<div>\n<style scoped>\n    .dataframe tbody tr th:only-of-type {\n        vertical-align: middle;\n    }\n\n    .dataframe tbody tr th {\n        vertical-align: top;\n    }\n\n    .dataframe thead th {\n        text-align: right;\n    }\n</style>\n<table border=\"1\" class=\"dataframe\">\n  <thead>\n    <tr style=\"text-align: right;\">\n      <th></th>\n      <th>tweet_id</th>\n      <th>user_id</th>\n      <th>username</th>\n      <th>tweet_timestamp</th>\n      <th>lang</th>\n      <th>text</th>\n      <th>sarcasm_label</th>\n      <th>sarcasm_type</th>\n    </tr>\n  </thead>\n  <tbody>\n    <tr>\n      <th>0</th>\n      <td>1086119014131208193</td>\n      <td>872689680</td>\n      <td>IainWf</td>\n      <td>2019-01-18 04:32:06</td>\n      <td>en</td>\n      <td>I knew as soon as I heard Doing Ford was cutti...</td>\n      <td>not_sarcastic</td>\n      <td>NaN</td>\n    </tr>\n    <tr>\n      <th>1</th>\n      <td>914242426755256320</td>\n      <td>168791540</td>\n      <td>WamiqCygnus</td>\n      <td>2017-09-30 21:35:54</td>\n      <td>en</td>\n      <td>Eating apple sauce, chicken thighs, broccoli, ...</td>\n      <td>not_sarcastic</td>\n      <td>NaN</td>\n    </tr>\n    <tr>\n      <th>2</th>\n      <td>1089244670998265856</td>\n      <td>459786827</td>\n      <td>TegiOfficial</td>\n      <td>2019-01-26 19:32:21</td>\n      <td>en</td>\n      <td>The greatest crime in the world is not develop...</td>\n      <td>not_sarcastic</td>\n      <td>NaN</td>\n    </tr>\n    <tr>\n      <th>3</th>\n      <td>1065046825613344768</td>\n      <td>4705188576</td>\n      <td>dogpictures_jpg</td>\n      <td>2018-11-21 00:58:45</td>\n      <td>en</td>\n      <td>@DemetriusHarmon i get paid on friday and i’m ...</td>\n      <td>not_sarcastic</td>\n      <td>NaN</td>\n    </tr>\n    <tr>\n      <th>4</th>\n      <td>1061820482872401920</td>\n      <td>88317267</td>\n      <td>marussell99</td>\n      <td>2018-11-12 03:18:25</td>\n      <td>en</td>\n      <td>No, please, no.\\r\\n\\r\\nOpinion: Hillary Will R...</td>\n      <td>not_sarcastic</td>\n      <td>NaN</td>\n    </tr>\n    <tr>\n      <th>...</th>\n      <td>...</td>\n      <td>...</td>\n      <td>...</td>\n      <td>...</td>\n      <td>...</td>\n      <td>...</td>\n      <td>...</td>\n      <td>...</td>\n    </tr>\n    <tr>\n      <th>3820</th>\n      <td>1171093461111660546</td>\n      <td>265370164</td>\n      <td>zeldaxzora</td>\n      <td>2019-09-09 16:10:13</td>\n      <td>en</td>\n      <td>where are the best places to get an academic d...</td>\n      <td>not_sarcastic</td>\n      <td>NaN</td>\n    </tr>\n    <tr>\n      <th>3821</th>\n      <td>1158305504575275009</td>\n      <td>265370164</td>\n      <td>zeldaxzora</td>\n      <td>2019-08-05 09:15:27</td>\n      <td>en</td>\n      <td>i accidentally just posted someone’s happy bir...</td>\n      <td>not_sarcastic</td>\n      <td>NaN</td>\n    </tr>\n    <tr>\n      <th>3822</th>\n      <td>1145291654926147586</td>\n      <td>24542723</td>\n      <td>RichardLSPrice</td>\n      <td>2019-06-30 11:23:03</td>\n      <td>en</td>\n      <td>I can confirm I am retiring from the consumpti...</td>\n      <td>sarcastic</td>\n      <td>irony</td>\n    </tr>\n    <tr>\n      <th>3823</th>\n      <td>1146574582272462853</td>\n      <td>24542723</td>\n      <td>RichardLSPrice</td>\n      <td>2019-07-04 00:20:57</td>\n      <td>en</td>\n      <td>Anxiety is the fucking worst</td>\n      <td>not_sarcastic</td>\n      <td>NaN</td>\n    </tr>\n    <tr>\n      <th>3824</th>\n      <td>1055962756380327937</td>\n      <td>24542723</td>\n      <td>RichardLSPrice</td>\n      <td>2018-10-26 23:21:54</td>\n      <td>en</td>\n      <td>Haven’t stopped thinking about Doctor Who sinc...</td>\n      <td>not_sarcastic</td>\n      <td>NaN</td>\n    </tr>\n  </tbody>\n</table>\n<p>3825 rows × 8 columns</p>\n</div>"
     },
     "execution_count": 127,
     "metadata": {},
     "output_type": "execute_result"
    }
   ],
   "source": [
    "df = df1.append(df2 , ignore_index=True, sort=False)\n",
    "df"
   ]
  },
  {
   "cell_type": "code",
   "execution_count": 128,
   "metadata": {},
   "outputs": [
    {
     "name": "stdout",
     "output_type": "stream",
     "text": [
      "<class 'pandas.core.frame.DataFrame'>\n",
      "RangeIndex: 3825 entries, 0 to 3824\n",
      "Data columns (total 8 columns):\n",
      " #   Column           Non-Null Count  Dtype \n",
      "---  ------           --------------  ----- \n",
      " 0   tweet_id         3825 non-null   int64 \n",
      " 1   user_id          3825 non-null   int64 \n",
      " 2   username         3825 non-null   object\n",
      " 3   tweet_timestamp  3825 non-null   object\n",
      " 4   lang             3825 non-null   object\n",
      " 5   text             3825 non-null   object\n",
      " 6   sarcasm_label    3825 non-null   object\n",
      " 7   sarcasm_type     652 non-null    object\n",
      "dtypes: int64(2), object(6)\n",
      "memory usage: 239.2+ KB\n"
     ]
    }
   ],
   "source": [
    "df.info()"
   ]
  },
  {
   "cell_type": "code",
   "execution_count": 129,
   "metadata": {},
   "outputs": [
    {
     "data": {
      "text/plain": "tweet_id            int64\nuser_id             int64\nusername           object\ntweet_timestamp    object\nlang               object\ntext               object\nsarcasm_label      object\nsarcasm_type       object\ndtype: object"
     },
     "execution_count": 129,
     "metadata": {},
     "output_type": "execute_result"
    }
   ],
   "source": [
    "df.dtypes"
   ]
  },
  {
   "cell_type": "markdown",
   "metadata": {},
   "source": [
    "# Remove some columns"
   ]
  },
  {
   "cell_type": "code",
   "execution_count": 130,
   "metadata": {},
   "outputs": [],
   "source": [
    "# df = df.drop([\"user_id\",\"username\",\"tweet_timestamp\",\"lang\",\"sarcasm_label\",\"sarcasm_type\"] ,axis=1)\n",
    "# df"
   ]
  },
  {
   "cell_type": "markdown",
   "metadata": {},
   "source": [
    "# Preprocessing"
   ]
  },
  {
   "cell_type": "code",
   "execution_count": 131,
   "metadata": {},
   "outputs": [],
   "source": [
    "#nltk.download('stopwords')\n",
    "#nltk.download('punkt')\n",
    "#nltk.download('wordnet')\n",
    "#nltk.download('wordnet_ic')\n",
    "#nltk.download('sentiwordnet')"
   ]
  },
  {
   "cell_type": "code",
   "execution_count": 132,
   "metadata": {},
   "outputs": [],
   "source": [
    "#remove user\n",
    "def remove_pattern(input_txt, pattern):\n",
    "    r = re.findall(pattern, input_txt)\n",
    "    for i in r:\n",
    "        input_txt = re.sub(i, '', input_txt)\n",
    "    return input_txt    \n",
    "df['remove_username'] = np.vectorize(remove_pattern)(df['text'], \"@[\\w]*\")"
   ]
  },
  {
   "cell_type": "code",
   "execution_count": 133,
   "metadata": {},
   "outputs": [],
   "source": [
    "def remove(tweet):\n",
    "    \n",
    "    #remove numbers\n",
    "    tweet = re.sub('[0-9]+', '', tweet)\n",
    "    \n",
    "    # remove stock market tickers like $GE\n",
    "    tweet = re.sub(r'\\$\\w*', '', tweet)\n",
    " \n",
    "    # remove old style retweet text \"RT\"\n",
    "    tweet = re.sub(r'^RT[\\s]+', '', tweet)\n",
    "    \n",
    "    # remove hashtags\n",
    "    # only removing the hash # sign from the word\n",
    "    tweet = re.sub(r'#', '', tweet)\n",
    "    \n",
    "    return tweet\n",
    "\n",
    "df['remove_http'] = df['remove_username'].apply(lambda x: remove(x))\n",
    "df.drop_duplicates(subset =\"remove_http\", keep = 'first', inplace = True)\n"
   ]
  },
  {
   "cell_type": "code",
   "execution_count": 134,
   "metadata": {},
   "outputs": [],
   "source": [
    "#import stopword\n",
    "from nltk.corpus import stopwords \n",
    "english_stop_words = stopwords.words('english')\n",
    "porter = nltk.stem.PorterStemmer()\n",
    "\n",
    "spell = Speller()\n",
    "\n",
    "#tokenize\n",
    "from nltk.tokenize import TweetTokenizer\n",
    " \n",
    "# Happy Emoticons\n",
    "emoticons_happy = set([\n",
    "    ':-)', ':)', ';)', ':o)', ':]', ':3', ':c)', ':>', '=]', '8)', '=)', ':}',\n",
    "    ':^)', ':-D', ':D', '8-D', '8D', 'x-D', 'xD', 'X-D', 'XD', '=-D', '=D',\n",
    "    '=-3', '=3', ':-))', \":'-)\", \":')\", ':*', ':^*', '>:P', ':-P', ':P', 'X-P',\n",
    "    'x-p', 'xp', 'XP', ':-p', ':p', '=p', ':-b', ':b', '>:)', '>;)', '>:-)',\n",
    "    '<3'\n",
    "    ])\n",
    " \n",
    "# Sad Emoticons\n",
    "emoticons_sad = set([\n",
    "    ':L', ':-/', '>:/', ':S', '>:[', ':@', ':-(', ':[', ':-||', '=L', ':<',\n",
    "    ':-[', ':-<', '=\\\\', '=/', '>:(', ':(', '>.<', \":'-(\", \":'(\", ':\\\\', ':-c',\n",
    "    ':c', ':{', '>:\\\\', ';('\n",
    "    ])\n",
    "\n",
    "# all emoticons (happy + sad)\n",
    "emoticons = emoticons_happy.union(emoticons_sad)"
   ]
  },
  {
   "cell_type": "code",
   "execution_count": 135,
   "metadata": {},
   "outputs": [],
   "source": [
    "def clean_tweets(tweet):\n",
    "\n",
    "    # Replace unusual chars\n",
    "    tweet = re.sub(r'’', '\\'', tweet).strip()\n",
    "    tweet = re.sub(r'[“”]', '\\\"', tweet).strip()\n",
    "\n",
    "    # remove stock market tickers like $GE\n",
    "    tweet = re.sub(r'\\$\\w*', '', tweet)\n",
    "\n",
    "     # Fix contractions  (you're -> you are)\n",
    "    tweet = contractions.fix(tweet)\n",
    "\n",
    "    # remove old style retweet text \"RT\"\n",
    "    tweet = re.sub(r'^RT[\\s]+', '', tweet)\n",
    "\n",
    "    # Replace unusual chars\n",
    "    tweet = re.sub(r'’', '\\'', tweet)\n",
    "    tweet = re.sub(r'[“”]', '\\\"', tweet).strip()\n",
    "\n",
    "    # remove hyperlinks\n",
    "    tweet = re.sub(r'https?:\\/\\/(www\\.)?[-a-zA-Z0-9@:%._\\+~#=]{1,256}\\.[a-zA-Z0-9()]{1,6}\\b'\n",
    "                      r'([-a-zA-Z0-9()@:%_\\+.~#?&//=]*)', '', tweet)\n",
    "\n",
    "    # Remove Emojis\n",
    "    text = re.sub(\"[\"\n",
    "                  u\"\\U0001F600-\\U0001F64F\"  # emoticons\n",
    "                  u\"\\U0001F300-\\U0001F5FF\"  # symbols & pictographs\n",
    "                  u\"\\U0001F680-\\U0001F6FF\"  # transport & map symbols\n",
    "                  u\"\\U0001F1E0-\\U0001F1FF\"  # flags (iOS)\n",
    "                  u\"\\U0001F1F2-\\U0001F1F4\"  # Macau flag\n",
    "                  u\"\\U0001F1E6-\\U0001F1FF\"  # flags\n",
    "                  u\"\\U0001F600-\\U0001F64F\"\n",
    "                  u\"\\U00002702-\\U000027B0\"\n",
    "                  u\"\\U000024C2-\\U0001F251\"\n",
    "                  u\"\\U0001f926-\\U0001f937\"\n",
    "                  u\"\\U0001F1F2\"\n",
    "                  u\"\\U0001F1F4\"\n",
    "                  u\"\\U0001F620\"\n",
    "                  u\"\\u200d\"\n",
    "                  u\"\\u2640-\\u2642\"\n",
    "                  \"]+\", '', tweet)\n",
    "    tweet = ''.join([char for char in text if char not in emoji.UNICODE_EMOJI]).strip()\n",
    "\n",
    "    # Remove extra @ \" ٪ \" + / ) ( = *\n",
    "    punctuations = '!\"#$%&()*+,-./:;<=>?@[\\\\]^_`{|}~'\n",
    "    tweet = ''.join([char for char in tweet if char not in punctuations])\n",
    " \n",
    "    # tokenize tweets\n",
    "    tokenizer = TweetTokenizer(preserve_case=False, strip_handles=True, reduce_len=True)\n",
    "    tweet_tokens = tokenizer.tokenize(tweet)\n",
    "\n",
    "    # Remove numbers\n",
    "    tweet_tokens = [x for x in tweet_tokens if not (x.isdigit() or x[0] == '-' and x[1:].isdigit())]\n",
    "\n",
    "    # Remove stop words\n",
    "    tweet_tokens = [word for word in tweet_tokens if word not in english_stop_words]\n",
    "\n",
    "    # Remove non-ASCII characters from list of tokenized words\n",
    "    new_words = []\n",
    "    for word in tweet_tokens:\n",
    "        new_word = unicodedata.normalize('NFKD', word).encode('ascii', 'ignore').decode('utf-8', 'ignore')\n",
    "        if new_word != '':\n",
    "            new_words.append(new_word)\n",
    "    tweet_tokens = new_words\n",
    "\n",
    "    # Fix typos\n",
    "    tweet_tokens = [spell(reduce_lengthening(word)) for word in tweet_tokens]\n",
    "\n",
    "    # Normalization\n",
    "    tweet_tokens = [porter.stem(word) for word in tweet_tokens]\n",
    "\n",
    "    return tweet_tokens\n",
    "\n",
    "\n",
    "df['tweet_clean_tokenize'] = df['remove_http'].apply(lambda x: clean_tweets(x))\n"
   ]
  },
  {
   "cell_type": "code",
   "execution_count": 136,
   "metadata": {},
   "outputs": [
    {
     "data": {
      "text/plain": "                 tweet_id     user_id         username      tweet_timestamp  \\\n0     1086119014131208193   872689680           IainWf  2019-01-18 04:32:06   \n1      914242426755256320   168791540      WamiqCygnus  2017-09-30 21:35:54   \n2     1089244670998265856   459786827     TegiOfficial  2019-01-26 19:32:21   \n3     1065046825613344768  4705188576  dogpictures_jpg  2018-11-21 00:58:45   \n4     1061820482872401920    88317267      marussell99  2018-11-12 03:18:25   \n...                   ...         ...              ...                  ...   \n3820  1171093461111660546   265370164       zeldaxzora  2019-09-09 16:10:13   \n3821  1158305504575275009   265370164       zeldaxzora  2019-08-05 09:15:27   \n3822  1145291654926147586    24542723   RichardLSPrice  2019-06-30 11:23:03   \n3823  1146574582272462853    24542723   RichardLSPrice  2019-07-04 00:20:57   \n3824  1055962756380327937    24542723   RichardLSPrice  2018-10-26 23:21:54   \n\n     lang                                               text  sarcasm_label  \\\n0      en  I knew as soon as I heard Doing Ford was cutti...  not_sarcastic   \n1      en  Eating apple sauce, chicken thighs, broccoli, ...  not_sarcastic   \n2      en  The greatest crime in the world is not develop...  not_sarcastic   \n3      en  @DemetriusHarmon i get paid on friday and i’m ...  not_sarcastic   \n4      en  No, please, no.\\r\\n\\r\\nOpinion: Hillary Will R...  not_sarcastic   \n...   ...                                                ...            ...   \n3820   en  where are the best places to get an academic d...  not_sarcastic   \n3821   en  i accidentally just posted someone’s happy bir...  not_sarcastic   \n3822   en  I can confirm I am retiring from the consumpti...      sarcastic   \n3823   en                       Anxiety is the fucking worst  not_sarcastic   \n3824   en  Haven’t stopped thinking about Doctor Who sinc...  not_sarcastic   \n\n     sarcasm_type                                    remove_username  \\\n0             NaN  I knew as soon as I heard Doing Ford was cutti...   \n1             NaN  Eating apple sauce, chicken thighs, broccoli, ...   \n2             NaN  The greatest crime in the world is not develop...   \n3             NaN   i get paid on friday and i’m SO EXCITED bc th...   \n4             NaN  No, please, no.\\r\\n\\r\\nOpinion: Hillary Will R...   \n...           ...                                                ...   \n3820          NaN  where are the best places to get an academic d...   \n3821          NaN  i accidentally just posted someone’s happy bir...   \n3822        irony  I can confirm I am retiring from the consumpti...   \n3823          NaN                       Anxiety is the fucking worst   \n3824          NaN  Haven’t stopped thinking about Doctor Who sinc...   \n\n                                            remove_http  \\\n0     I knew as soon as I heard Doing Ford was cutti...   \n1     Eating apple sauce, chicken thighs, broccoli, ...   \n2     The greatest crime in the world is not develop...   \n3      i get paid on friday and i’m SO EXCITED bc th...   \n4     No, please, no.\\r\\n\\r\\nOpinion: Hillary Will R...   \n...                                                 ...   \n3820  where are the best places to get an academic d...   \n3821  i accidentally just posted someone’s happy bir...   \n3822  I can confirm I am retiring from the consumpti...   \n3823                       Anxiety is the fucking worst   \n3824  Haven’t stopped thinking about Doctor Who sinc...   \n\n                                   tweet_clean_tokenize  \n0     [knew, soon, heard, ford, cut, tuition, would,...  \n1     [eat, appl, sauc, chicken, thigh, broccoli, en...  \n2     [greatest, crime, world, develop, potenti, bes...  \n3     [get, paid, friday, excit, bc, bodi, come, bac...  \n4     [pleas, opinion, hillari, run, wall, street, j...  \n...                                                 ...  \n3820  [best, place, get, academ, diari, smith, let, ...  \n3821  [accident, post, someone', happi, birthday, me...  \n3822  [confirm, retir, consumpt, alcohol, immedi, af...  \n3823                             [anxieti, fuck, worst]  \n3824  [stop, think, doctor, sinc, last, sunday, rosa...  \n\n[3822 rows x 11 columns]",
      "text/html": "<div>\n<style scoped>\n    .dataframe tbody tr th:only-of-type {\n        vertical-align: middle;\n    }\n\n    .dataframe tbody tr th {\n        vertical-align: top;\n    }\n\n    .dataframe thead th {\n        text-align: right;\n    }\n</style>\n<table border=\"1\" class=\"dataframe\">\n  <thead>\n    <tr style=\"text-align: right;\">\n      <th></th>\n      <th>tweet_id</th>\n      <th>user_id</th>\n      <th>username</th>\n      <th>tweet_timestamp</th>\n      <th>lang</th>\n      <th>text</th>\n      <th>sarcasm_label</th>\n      <th>sarcasm_type</th>\n      <th>remove_username</th>\n      <th>remove_http</th>\n      <th>tweet_clean_tokenize</th>\n    </tr>\n  </thead>\n  <tbody>\n    <tr>\n      <th>0</th>\n      <td>1086119014131208193</td>\n      <td>872689680</td>\n      <td>IainWf</td>\n      <td>2019-01-18 04:32:06</td>\n      <td>en</td>\n      <td>I knew as soon as I heard Doing Ford was cutti...</td>\n      <td>not_sarcastic</td>\n      <td>NaN</td>\n      <td>I knew as soon as I heard Doing Ford was cutti...</td>\n      <td>I knew as soon as I heard Doing Ford was cutti...</td>\n      <td>[knew, soon, heard, ford, cut, tuition, would,...</td>\n    </tr>\n    <tr>\n      <th>1</th>\n      <td>914242426755256320</td>\n      <td>168791540</td>\n      <td>WamiqCygnus</td>\n      <td>2017-09-30 21:35:54</td>\n      <td>en</td>\n      <td>Eating apple sauce, chicken thighs, broccoli, ...</td>\n      <td>not_sarcastic</td>\n      <td>NaN</td>\n      <td>Eating apple sauce, chicken thighs, broccoli, ...</td>\n      <td>Eating apple sauce, chicken thighs, broccoli, ...</td>\n      <td>[eat, appl, sauc, chicken, thigh, broccoli, en...</td>\n    </tr>\n    <tr>\n      <th>2</th>\n      <td>1089244670998265856</td>\n      <td>459786827</td>\n      <td>TegiOfficial</td>\n      <td>2019-01-26 19:32:21</td>\n      <td>en</td>\n      <td>The greatest crime in the world is not develop...</td>\n      <td>not_sarcastic</td>\n      <td>NaN</td>\n      <td>The greatest crime in the world is not develop...</td>\n      <td>The greatest crime in the world is not develop...</td>\n      <td>[greatest, crime, world, develop, potenti, bes...</td>\n    </tr>\n    <tr>\n      <th>3</th>\n      <td>1065046825613344768</td>\n      <td>4705188576</td>\n      <td>dogpictures_jpg</td>\n      <td>2018-11-21 00:58:45</td>\n      <td>en</td>\n      <td>@DemetriusHarmon i get paid on friday and i’m ...</td>\n      <td>not_sarcastic</td>\n      <td>NaN</td>\n      <td>i get paid on friday and i’m SO EXCITED bc th...</td>\n      <td>i get paid on friday and i’m SO EXCITED bc th...</td>\n      <td>[get, paid, friday, excit, bc, bodi, come, bac...</td>\n    </tr>\n    <tr>\n      <th>4</th>\n      <td>1061820482872401920</td>\n      <td>88317267</td>\n      <td>marussell99</td>\n      <td>2018-11-12 03:18:25</td>\n      <td>en</td>\n      <td>No, please, no.\\r\\n\\r\\nOpinion: Hillary Will R...</td>\n      <td>not_sarcastic</td>\n      <td>NaN</td>\n      <td>No, please, no.\\r\\n\\r\\nOpinion: Hillary Will R...</td>\n      <td>No, please, no.\\r\\n\\r\\nOpinion: Hillary Will R...</td>\n      <td>[pleas, opinion, hillari, run, wall, street, j...</td>\n    </tr>\n    <tr>\n      <th>...</th>\n      <td>...</td>\n      <td>...</td>\n      <td>...</td>\n      <td>...</td>\n      <td>...</td>\n      <td>...</td>\n      <td>...</td>\n      <td>...</td>\n      <td>...</td>\n      <td>...</td>\n      <td>...</td>\n    </tr>\n    <tr>\n      <th>3820</th>\n      <td>1171093461111660546</td>\n      <td>265370164</td>\n      <td>zeldaxzora</td>\n      <td>2019-09-09 16:10:13</td>\n      <td>en</td>\n      <td>where are the best places to get an academic d...</td>\n      <td>not_sarcastic</td>\n      <td>NaN</td>\n      <td>where are the best places to get an academic d...</td>\n      <td>where are the best places to get an academic d...</td>\n      <td>[best, place, get, academ, diari, smith, let, ...</td>\n    </tr>\n    <tr>\n      <th>3821</th>\n      <td>1158305504575275009</td>\n      <td>265370164</td>\n      <td>zeldaxzora</td>\n      <td>2019-08-05 09:15:27</td>\n      <td>en</td>\n      <td>i accidentally just posted someone’s happy bir...</td>\n      <td>not_sarcastic</td>\n      <td>NaN</td>\n      <td>i accidentally just posted someone’s happy bir...</td>\n      <td>i accidentally just posted someone’s happy bir...</td>\n      <td>[accident, post, someone', happi, birthday, me...</td>\n    </tr>\n    <tr>\n      <th>3822</th>\n      <td>1145291654926147586</td>\n      <td>24542723</td>\n      <td>RichardLSPrice</td>\n      <td>2019-06-30 11:23:03</td>\n      <td>en</td>\n      <td>I can confirm I am retiring from the consumpti...</td>\n      <td>sarcastic</td>\n      <td>irony</td>\n      <td>I can confirm I am retiring from the consumpti...</td>\n      <td>I can confirm I am retiring from the consumpti...</td>\n      <td>[confirm, retir, consumpt, alcohol, immedi, af...</td>\n    </tr>\n    <tr>\n      <th>3823</th>\n      <td>1146574582272462853</td>\n      <td>24542723</td>\n      <td>RichardLSPrice</td>\n      <td>2019-07-04 00:20:57</td>\n      <td>en</td>\n      <td>Anxiety is the fucking worst</td>\n      <td>not_sarcastic</td>\n      <td>NaN</td>\n      <td>Anxiety is the fucking worst</td>\n      <td>Anxiety is the fucking worst</td>\n      <td>[anxieti, fuck, worst]</td>\n    </tr>\n    <tr>\n      <th>3824</th>\n      <td>1055962756380327937</td>\n      <td>24542723</td>\n      <td>RichardLSPrice</td>\n      <td>2018-10-26 23:21:54</td>\n      <td>en</td>\n      <td>Haven’t stopped thinking about Doctor Who sinc...</td>\n      <td>not_sarcastic</td>\n      <td>NaN</td>\n      <td>Haven’t stopped thinking about Doctor Who sinc...</td>\n      <td>Haven’t stopped thinking about Doctor Who sinc...</td>\n      <td>[stop, think, doctor, sinc, last, sunday, rosa...</td>\n    </tr>\n  </tbody>\n</table>\n<p>3822 rows × 11 columns</p>\n</div>"
     },
     "execution_count": 136,
     "metadata": {},
     "output_type": "execute_result"
    }
   ],
   "source": [
    "df"
   ]
  },
  {
   "cell_type": "code",
   "execution_count": 138,
   "metadata": {},
   "outputs": [
    {
     "data": {
      "text/plain": "                 tweet_id     user_id         username      tweet_timestamp  \\\n0     1086119014131208193   872689680           IainWf  2019-01-18 04:32:06   \n1      914242426755256320   168791540      WamiqCygnus  2017-09-30 21:35:54   \n2     1089244670998265856   459786827     TegiOfficial  2019-01-26 19:32:21   \n3     1065046825613344768  4705188576  dogpictures_jpg  2018-11-21 00:58:45   \n4     1061820482872401920    88317267      marussell99  2018-11-12 03:18:25   \n...                   ...         ...              ...                  ...   \n3820  1171093461111660546   265370164       zeldaxzora  2019-09-09 16:10:13   \n3821  1158305504575275009   265370164       zeldaxzora  2019-08-05 09:15:27   \n3822  1145291654926147586    24542723   RichardLSPrice  2019-06-30 11:23:03   \n3823  1146574582272462853    24542723   RichardLSPrice  2019-07-04 00:20:57   \n3824  1055962756380327937    24542723   RichardLSPrice  2018-10-26 23:21:54   \n\n     lang                                               text  sarcasm_label  \\\n0      en  I knew as soon as I heard Doing Ford was cutti...  not_sarcastic   \n1      en  Eating apple sauce, chicken thighs, broccoli, ...  not_sarcastic   \n2      en  The greatest crime in the world is not develop...  not_sarcastic   \n3      en  @DemetriusHarmon i get paid on friday and i’m ...  not_sarcastic   \n4      en  No, please, no.\\r\\n\\r\\nOpinion: Hillary Will R...  not_sarcastic   \n...   ...                                                ...            ...   \n3820   en  where are the best places to get an academic d...  not_sarcastic   \n3821   en  i accidentally just posted someone’s happy bir...  not_sarcastic   \n3822   en  I can confirm I am retiring from the consumpti...      sarcastic   \n3823   en                       Anxiety is the fucking worst  not_sarcastic   \n3824   en  Haven’t stopped thinking about Doctor Who sinc...  not_sarcastic   \n\n     sarcasm_type                                    remove_username  \\\n0             NaN  I knew as soon as I heard Doing Ford was cutti...   \n1             NaN  Eating apple sauce, chicken thighs, broccoli, ...   \n2             NaN  The greatest crime in the world is not develop...   \n3             NaN   i get paid on friday and i’m SO EXCITED bc th...   \n4             NaN  No, please, no.\\r\\n\\r\\nOpinion: Hillary Will R...   \n...           ...                                                ...   \n3820          NaN  where are the best places to get an academic d...   \n3821          NaN  i accidentally just posted someone’s happy bir...   \n3822        irony  I can confirm I am retiring from the consumpti...   \n3823          NaN                       Anxiety is the fucking worst   \n3824          NaN  Haven’t stopped thinking about Doctor Who sinc...   \n\n                                            remove_http  \\\n0     I knew as soon as I heard Doing Ford was cutti...   \n1     Eating apple sauce, chicken thighs, broccoli, ...   \n2     The greatest crime in the world is not develop...   \n3      i get paid on friday and i’m SO EXCITED bc th...   \n4     No, please, no.\\r\\n\\r\\nOpinion: Hillary Will R...   \n...                                                 ...   \n3820  where are the best places to get an academic d...   \n3821  i accidentally just posted someone’s happy bir...   \n3822  I can confirm I am retiring from the consumpti...   \n3823                       Anxiety is the fucking worst   \n3824  Haven’t stopped thinking about Doctor Who sinc...   \n\n                                   tweet_clean_tokenize  \\\n0     [knew, soon, heard, ford, cut, tuition, would,...   \n1     [eat, appl, sauc, chicken, thigh, broccoli, en...   \n2     [greatest, crime, world, develop, potenti, bes...   \n3     [get, paid, friday, excit, bc, bodi, come, bac...   \n4     [pleas, opinion, hillari, run, wall, street, j...   \n...                                                 ...   \n3820  [best, place, get, academ, diari, smith, let, ...   \n3821  [accident, post, someone', happi, birthday, me...   \n3822  [confirm, retir, consumpt, alcohol, immedi, af...   \n3823                             [anxieti, fuck, worst]   \n3824  [stop, think, doctor, sinc, last, sunday, rosa...   \n\n                                            tweet_clean  \n0     knew soon heard ford cut tuition would catch t...  \n1     eat appl sauc chicken thigh broccoli enjoy col...  \n2     greatest crime world develop potenti best help...  \n3           get paid friday excit bc bodi come back day  \n4         pleas opinion hillari run wall street journal  \n...                                                 ...  \n3820         best place get academ diari smith let side  \n3821  accident post someone' happi birthday messag s...  \n3822  confirm retir consumpt alcohol immedi affect k...  \n3823                                 anxieti fuck worst  \n3824  stop think doctor sinc last sunday rosa episod...  \n\n[3801 rows x 12 columns]",
      "text/html": "<div>\n<style scoped>\n    .dataframe tbody tr th:only-of-type {\n        vertical-align: middle;\n    }\n\n    .dataframe tbody tr th {\n        vertical-align: top;\n    }\n\n    .dataframe thead th {\n        text-align: right;\n    }\n</style>\n<table border=\"1\" class=\"dataframe\">\n  <thead>\n    <tr style=\"text-align: right;\">\n      <th></th>\n      <th>tweet_id</th>\n      <th>user_id</th>\n      <th>username</th>\n      <th>tweet_timestamp</th>\n      <th>lang</th>\n      <th>text</th>\n      <th>sarcasm_label</th>\n      <th>sarcasm_type</th>\n      <th>remove_username</th>\n      <th>remove_http</th>\n      <th>tweet_clean_tokenize</th>\n      <th>tweet_clean</th>\n    </tr>\n  </thead>\n  <tbody>\n    <tr>\n      <th>0</th>\n      <td>1086119014131208193</td>\n      <td>872689680</td>\n      <td>IainWf</td>\n      <td>2019-01-18 04:32:06</td>\n      <td>en</td>\n      <td>I knew as soon as I heard Doing Ford was cutti...</td>\n      <td>not_sarcastic</td>\n      <td>NaN</td>\n      <td>I knew as soon as I heard Doing Ford was cutti...</td>\n      <td>I knew as soon as I heard Doing Ford was cutti...</td>\n      <td>[knew, soon, heard, ford, cut, tuition, would,...</td>\n      <td>knew soon heard ford cut tuition would catch t...</td>\n    </tr>\n    <tr>\n      <th>1</th>\n      <td>914242426755256320</td>\n      <td>168791540</td>\n      <td>WamiqCygnus</td>\n      <td>2017-09-30 21:35:54</td>\n      <td>en</td>\n      <td>Eating apple sauce, chicken thighs, broccoli, ...</td>\n      <td>not_sarcastic</td>\n      <td>NaN</td>\n      <td>Eating apple sauce, chicken thighs, broccoli, ...</td>\n      <td>Eating apple sauce, chicken thighs, broccoli, ...</td>\n      <td>[eat, appl, sauc, chicken, thigh, broccoli, en...</td>\n      <td>eat appl sauc chicken thigh broccoli enjoy col...</td>\n    </tr>\n    <tr>\n      <th>2</th>\n      <td>1089244670998265856</td>\n      <td>459786827</td>\n      <td>TegiOfficial</td>\n      <td>2019-01-26 19:32:21</td>\n      <td>en</td>\n      <td>The greatest crime in the world is not develop...</td>\n      <td>not_sarcastic</td>\n      <td>NaN</td>\n      <td>The greatest crime in the world is not develop...</td>\n      <td>The greatest crime in the world is not develop...</td>\n      <td>[greatest, crime, world, develop, potenti, bes...</td>\n      <td>greatest crime world develop potenti best help...</td>\n    </tr>\n    <tr>\n      <th>3</th>\n      <td>1065046825613344768</td>\n      <td>4705188576</td>\n      <td>dogpictures_jpg</td>\n      <td>2018-11-21 00:58:45</td>\n      <td>en</td>\n      <td>@DemetriusHarmon i get paid on friday and i’m ...</td>\n      <td>not_sarcastic</td>\n      <td>NaN</td>\n      <td>i get paid on friday and i’m SO EXCITED bc th...</td>\n      <td>i get paid on friday and i’m SO EXCITED bc th...</td>\n      <td>[get, paid, friday, excit, bc, bodi, come, bac...</td>\n      <td>get paid friday excit bc bodi come back day</td>\n    </tr>\n    <tr>\n      <th>4</th>\n      <td>1061820482872401920</td>\n      <td>88317267</td>\n      <td>marussell99</td>\n      <td>2018-11-12 03:18:25</td>\n      <td>en</td>\n      <td>No, please, no.\\r\\n\\r\\nOpinion: Hillary Will R...</td>\n      <td>not_sarcastic</td>\n      <td>NaN</td>\n      <td>No, please, no.\\r\\n\\r\\nOpinion: Hillary Will R...</td>\n      <td>No, please, no.\\r\\n\\r\\nOpinion: Hillary Will R...</td>\n      <td>[pleas, opinion, hillari, run, wall, street, j...</td>\n      <td>pleas opinion hillari run wall street journal</td>\n    </tr>\n    <tr>\n      <th>...</th>\n      <td>...</td>\n      <td>...</td>\n      <td>...</td>\n      <td>...</td>\n      <td>...</td>\n      <td>...</td>\n      <td>...</td>\n      <td>...</td>\n      <td>...</td>\n      <td>...</td>\n      <td>...</td>\n      <td>...</td>\n    </tr>\n    <tr>\n      <th>3820</th>\n      <td>1171093461111660546</td>\n      <td>265370164</td>\n      <td>zeldaxzora</td>\n      <td>2019-09-09 16:10:13</td>\n      <td>en</td>\n      <td>where are the best places to get an academic d...</td>\n      <td>not_sarcastic</td>\n      <td>NaN</td>\n      <td>where are the best places to get an academic d...</td>\n      <td>where are the best places to get an academic d...</td>\n      <td>[best, place, get, academ, diari, smith, let, ...</td>\n      <td>best place get academ diari smith let side</td>\n    </tr>\n    <tr>\n      <th>3821</th>\n      <td>1158305504575275009</td>\n      <td>265370164</td>\n      <td>zeldaxzora</td>\n      <td>2019-08-05 09:15:27</td>\n      <td>en</td>\n      <td>i accidentally just posted someone’s happy bir...</td>\n      <td>not_sarcastic</td>\n      <td>NaN</td>\n      <td>i accidentally just posted someone’s happy bir...</td>\n      <td>i accidentally just posted someone’s happy bir...</td>\n      <td>[accident, post, someone', happi, birthday, me...</td>\n      <td>accident post someone' happi birthday messag s...</td>\n    </tr>\n    <tr>\n      <th>3822</th>\n      <td>1145291654926147586</td>\n      <td>24542723</td>\n      <td>RichardLSPrice</td>\n      <td>2019-06-30 11:23:03</td>\n      <td>en</td>\n      <td>I can confirm I am retiring from the consumpti...</td>\n      <td>sarcastic</td>\n      <td>irony</td>\n      <td>I can confirm I am retiring from the consumpti...</td>\n      <td>I can confirm I am retiring from the consumpti...</td>\n      <td>[confirm, retir, consumpt, alcohol, immedi, af...</td>\n      <td>confirm retir consumpt alcohol immedi affect k...</td>\n    </tr>\n    <tr>\n      <th>3823</th>\n      <td>1146574582272462853</td>\n      <td>24542723</td>\n      <td>RichardLSPrice</td>\n      <td>2019-07-04 00:20:57</td>\n      <td>en</td>\n      <td>Anxiety is the fucking worst</td>\n      <td>not_sarcastic</td>\n      <td>NaN</td>\n      <td>Anxiety is the fucking worst</td>\n      <td>Anxiety is the fucking worst</td>\n      <td>[anxieti, fuck, worst]</td>\n      <td>anxieti fuck worst</td>\n    </tr>\n    <tr>\n      <th>3824</th>\n      <td>1055962756380327937</td>\n      <td>24542723</td>\n      <td>RichardLSPrice</td>\n      <td>2018-10-26 23:21:54</td>\n      <td>en</td>\n      <td>Haven’t stopped thinking about Doctor Who sinc...</td>\n      <td>not_sarcastic</td>\n      <td>NaN</td>\n      <td>Haven’t stopped thinking about Doctor Who sinc...</td>\n      <td>Haven’t stopped thinking about Doctor Who sinc...</td>\n      <td>[stop, think, doctor, sinc, last, sunday, rosa...</td>\n      <td>stop think doctor sinc last sunday rosa episod...</td>\n    </tr>\n  </tbody>\n</table>\n<p>3801 rows × 12 columns</p>\n</div>"
     },
     "execution_count": 138,
     "metadata": {},
     "output_type": "execute_result"
    }
   ],
   "source": [
    "#df.drop(df.columns[[1,2,3]], axis = 1, inplace = True)\n",
    "df.drop_duplicates(subset =\"tweet_clean\", keep = 'first', inplace = True)\n",
    "df.to_csv('output.csv',encoding='utf8', index=False)\n",
    "df"
   ]
  },
  {
   "cell_type": "code",
   "execution_count": 138,
   "metadata": {},
   "outputs": [],
   "source": []
  }
 ],
 "metadata": {
  "kernelspec": {
   "display_name": "Python 3",
   "language": "python",
   "name": "python3"
  }
 },
 "nbformat": 4,
 "nbformat_minor": 4
}